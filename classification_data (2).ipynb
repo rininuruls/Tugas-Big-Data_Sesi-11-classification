{
  "nbformat": 4,
  "nbformat_minor": 0,
  "metadata": {
    "colab": {
      "provenance": []
    },
    "kernelspec": {
      "name": "python3",
      "display_name": "Python 3"
    },
    "language_info": {
      "name": "python"
    }
  },
  "cells": [
    {
      "cell_type": "code",
      "execution_count": 1,
      "metadata": {
        "id": "SkwF7xgV3xSw"
      },
      "outputs": [],
      "source": [
        "from pyspark.sql import SparkSession\n",
        "from pyspark.sql.functions import when\n",
        "from pyspark.ml import Pipeline\n",
        "from pyspark.ml.feature import (\n",
        "    Tokenizer, StopWordsRemover, CountVectorizer, IDF,\n",
        "    StringIndexer, OneHotEncoder, VectorAssembler, StandardScaler\n",
        ")\n",
        "from pyspark.ml.classification import RandomForestClassifier\n",
        "from pyspark.ml.evaluation import MulticlassClassificationEvaluator\n",
        "from pyspark.sql.functions import col, sum"
      ]
    },
    {
      "cell_type": "code",
      "source": [
        "# Inisialisasi SparkSession\n",
        "spark = SparkSession.builder \\\n",
        "    .appName(\"apotek\") \\\n",
        "    .getOrCreate()\n",
        "\n",
        "# Load data CSV\n",
        "df_dataset = spark.read.csv(\"/content/diabetes.csv\", header=True, inferSchema=True)\n",
        "\n",
        "#tampilkan data\n",
        "df_dataset.show(5)\n"
      ],
      "metadata": {
        "colab": {
          "base_uri": "https://localhost:8080/"
        },
        "id": "jIWfalVS33_T",
        "outputId": "c5f829e3-b822-45f3-efe0-79c14fd9ff7b"
      },
      "execution_count": 3,
      "outputs": [
        {
          "output_type": "stream",
          "name": "stdout",
          "text": [
            "+-----------+-------+-------------+-------------+-------+----+------------------------+---+-------+\n",
            "|Pregnancies|Glucose|BloodPressure|SkinThickness|Insulin| BMI|DiabetesPedigreeFunction|Age|Outcome|\n",
            "+-----------+-------+-------------+-------------+-------+----+------------------------+---+-------+\n",
            "|          6|    148|           72|           35|      0|33.6|                   0.627| 50|      1|\n",
            "|          1|     85|           66|           29|      0|26.6|                   0.351| 31|      0|\n",
            "|          8|    183|           64|            0|      0|23.3|                   0.672| 32|      1|\n",
            "|          1|     89|           66|           23|     94|28.1|                   0.167| 21|      0|\n",
            "|          0|    137|           40|           35|    168|43.1|                   2.288| 33|      1|\n",
            "+-----------+-------+-------------+-------------+-------+----+------------------------+---+-------+\n",
            "only showing top 5 rows\n",
            "\n"
          ]
        }
      ]
    },
    {
      "cell_type": "code",
      "source": [
        "# 1. Buat label klasifikasi berdasarkan kolom Outcome\n",
        "# Jika Outcome adalah 1 (diabetes), label adalah 1; jika 0 (tidak diabetes), label adalah 0.\n",
        "# Assuming Outcome is a binary classification column (0 or 1)\n",
        "df_dataset = df_dataset.withColumn(\n",
        "    \"label\",\n",
        "    col(\"Outcome\") # Directly use the Outcome column as the label\n",
        ")"
      ],
      "metadata": {
        "id": "iUENSxHK41xF"
      },
      "execution_count": 6,
      "outputs": []
    },
    {
      "cell_type": "code",
      "source": [
        "# 2. Transform Judul\n",
        "tokenizer = Tokenizer(inputCol=\"Product\", outputCol=\"words\")\n",
        "remover = StopWordsRemover(inputCol=\"words\", outputCol=\"filtered_words\")\n",
        "vectorizer = CountVectorizer(inputCol=\"filtered_words\", outputCol=\"rawFeatures\")\n",
        "idf = IDF(inputCol=\"rawFeatures\", outputCol=\"title_features\")"
      ],
      "metadata": {
        "id": "q3Whics05Hao"
      },
      "execution_count": 7,
      "outputs": []
    },
    {
      "cell_type": "code",
      "source": [
        "# 3. Transform State\n",
        "State_indexer = StringIndexer(inputCol=\"State\", outputCol=\"State_index\", handleInvalid=\"keep\")\n",
        "State_encoder = OneHotEncoder(inputCol=\"State_index\", outputCol=\"State_encoded\")"
      ],
      "metadata": {
        "id": "klphUKHn5KpQ"
      },
      "execution_count": 8,
      "outputs": []
    },
    {
      "cell_type": "code",
      "source": [
        "# 4. Scaling a numerical feature\n",
        "# Choose a relevant numerical feature from the diabetes dataset to scale.\n",
        "# Let's choose 'Glucose' as an example.\n",
        "Numerical_assembler = VectorAssembler(inputCols=[\"Glucose\"], outputCol=\"Glucose_vec\")\n",
        "Numerical_scaler = StandardScaler(inputCol=\"Glucose_vec\", outputCol=\"Glucose_scaled\")\n"
      ],
      "metadata": {
        "id": "77rov42y5fKj"
      },
      "execution_count": 9,
      "outputs": []
    },
    {
      "cell_type": "code",
      "source": [
        "# 5. Gabungkan semua fitur menjadi vector features\n",
        "# Update inputCols to reflect the features you are using from the diabetes dataset.\n",
        "# Based on the current steps, we're only scaling 'Glucose'.\n",
        "feature_assembler = VectorAssembler(\n",
        "    inputCols=[\"Glucose_scaled\"], # Using the scaled numerical feature\n",
        "    outputCol=\"features\"\n",
        ")"
      ],
      "metadata": {
        "id": "I-gEaPrO5kt2"
      },
      "execution_count": 10,
      "outputs": []
    },
    {
      "cell_type": "code",
      "source": [
        "# 6. Definisikan model klasifikasi RandomForest\n",
        "# labelCol should match the name of the column containing your target variable ('label' in this case).\n",
        "classifier = RandomForestClassifier(featuresCol=\"features\", labelCol=\"label\", seed=42)"
      ],
      "metadata": {
        "id": "cbnNdoOo5ogr"
      },
      "execution_count": 11,
      "outputs": []
    },
    {
      "cell_type": "code",
      "source": [
        "# 7. Buat pipeline lengkap\n",
        "# Update the pipeline stages based on the steps you are actually performing.\n",
        "pipeline = Pipeline(stages=[\n",
        "    # Removed text processing stages\n",
        "    # Removed categorical processing stages\n",
        "    Numerical_assembler, # Add the numerical assembler\n",
        "    Numerical_scaler, # Add the numerical scaler\n",
        "    feature_assembler, # Add the feature assembler\n",
        "    classifier # Add the classifier\n",
        "])"
      ],
      "metadata": {
        "id": "DtHBDoFf5u6W"
      },
      "execution_count": 12,
      "outputs": []
    },
    {
      "cell_type": "code",
      "source": [
        "# 8. Bagi data train-test split\n",
        "train_df, test_df = df_dataset.randomSplit([0.8, 0.2], seed=42)\n",
        "\n",
        "# 9. Latih model\n",
        "model = pipeline.fit(train_df)\n",
        "\n",
        "# 10. Prediksi di data test\n",
        "predictions = model.transform(test_df)"
      ],
      "metadata": {
        "id": "gehKNdcQ5xft"
      },
      "execution_count": 13,
      "outputs": []
    },
    {
      "cell_type": "code",
      "source": [
        "# 11. Evaluasi akurasi\n",
        "# Update the evaluator if your label classes are different from 0, 1, 2\n",
        "# Since we used the 'Outcome' column (0 or 1), MulticlassClassificationEvaluator is still fine,\n",
        "# it will work for binary classification as well.\n",
        "evaluator = MulticlassClassificationEvaluator(labelCol=\"label\", predictionCol=\"prediction\", metricName=\"accuracy\")\n",
        "accuracy = evaluator.evaluate(predictions)\n",
        "print(f\"Accuracy: {accuracy}\")"
      ],
      "metadata": {
        "colab": {
          "base_uri": "https://localhost:8080/"
        },
        "id": "uUF1Z-pc55X2",
        "outputId": "71483572-5bc3-4610-c635-11723a5e23c0"
      },
      "execution_count": 14,
      "outputs": [
        {
          "output_type": "stream",
          "name": "stdout",
          "text": [
            "Accuracy: 0.7479674796747967\n"
          ]
        }
      ]
    },
    {
      "cell_type": "code",
      "source": [
        "\n",
        "# 12. Classification results display\n",
        "\n",
        "# Add column label_name - Update the mapping based on your actual label values (0 and 1 for Outcome)\n",
        "predictions = predictions.withColumn(\n",
        "    \"label_name\",\n",
        "    when(predictions.label == 0, \"No Diabetes\") \\\n",
        "    .otherwise(\"Diabetes\") # Assuming label 1 corresponds to Diabetes\n",
        ")\n",
        "\n",
        "# (Opsional) Tambahkan juga prediksi label_name - Update the mapping based on your actual prediction values (0 and 1)\n",
        "predictions = predictions.withColumn(\n",
        "    \"predicted_label_name\",\n",
        "    when(predictions.prediction == 0, \"No Diabetes\") \\\n",
        "    .otherwise(\"Diabetes\") # Assuming prediction 1 corresponds to Diabetes\n",
        ")\n",
        "\n",
        "# Select columns to show - update these based on relevant columns in the diabetes dataset\n",
        "predictions.select(\"Glucose\", \"BMI\", \"Outcome\", \"label_name\", \"prediction\").show(100)\n"
      ],
      "metadata": {
        "colab": {
          "base_uri": "https://localhost:8080/"
        },
        "id": "Pnjw-wMa7tp5",
        "outputId": "a554bb00-803a-421e-bbef-12cdd0a92313"
      },
      "execution_count": 15,
      "outputs": [
        {
          "output_type": "stream",
          "name": "stdout",
          "text": [
            "+-------+----+-------+-----------+----------+\n",
            "|Glucose| BMI|Outcome| label_name|prediction|\n",
            "+-------+----+-------+-----------+----------+\n",
            "|     73|21.1|      0|No Diabetes|       0.0|\n",
            "|     84|38.2|      0|No Diabetes|       0.0|\n",
            "|     91|39.9|      0|No Diabetes|       0.0|\n",
            "|     94| 0.0|      0|No Diabetes|       0.0|\n",
            "|     98|25.2|      0|No Diabetes|       0.0|\n",
            "|    101|21.9|      0|No Diabetes|       0.0|\n",
            "|    102| 0.0|      0|No Diabetes|       0.0|\n",
            "|    105|41.5|      0|No Diabetes|       0.0|\n",
            "|    111|24.6|      0|No Diabetes|       0.0|\n",
            "|    113|33.3|      1|   Diabetes|       0.0|\n",
            "|    113|31.0|      0|No Diabetes|       0.0|\n",
            "|    117|33.8|      0|No Diabetes|       0.0|\n",
            "|    117|45.2|      0|No Diabetes|       0.0|\n",
            "|    119|34.9|      0|No Diabetes|       0.0|\n",
            "|    124|27.4|      1|   Diabetes|       0.0|\n",
            "|    129|31.2|      0|No Diabetes|       0.0|\n",
            "|    135|40.6|      0|No Diabetes|       0.0|\n",
            "|    173|46.5|      0|No Diabetes|       1.0|\n",
            "|      0|32.0|      0|No Diabetes|       0.0|\n",
            "|     71|33.2|      0|No Diabetes|       0.0|\n",
            "|     73|23.0|      0|No Diabetes|       0.0|\n",
            "|     77|33.3|      0|No Diabetes|       0.0|\n",
            "|     85|26.6|      0|No Diabetes|       0.0|\n",
            "|     87|37.2|      0|No Diabetes|       0.0|\n",
            "|     96|33.2|      0|No Diabetes|       0.0|\n",
            "|     99|38.6|      0|No Diabetes|       0.0|\n",
            "|    100|19.5|      0|No Diabetes|       0.0|\n",
            "|    103|19.4|      0|No Diabetes|       0.0|\n",
            "|    106|37.5|      0|No Diabetes|       0.0|\n",
            "|    111|32.8|      0|No Diabetes|       0.0|\n",
            "|    116|27.4|      0|No Diabetes|       0.0|\n",
            "|    125|33.3|      1|   Diabetes|       0.0|\n",
            "|    128|32.0|      1|   Diabetes|       0.0|\n",
            "|    139|28.7|      0|No Diabetes|       0.0|\n",
            "|    143|30.1|      0|No Diabetes|       0.0|\n",
            "|    181|34.1|      1|   Diabetes|       1.0|\n",
            "|     82|28.5|      0|No Diabetes|       0.0|\n",
            "|     84|30.4|      0|No Diabetes|       0.0|\n",
            "|     87|32.7|      0|No Diabetes|       0.0|\n",
            "|     88|29.0|      0|No Diabetes|       0.0|\n",
            "|     90|38.2|      1|   Diabetes|       0.0|\n",
            "|     90|24.4|      0|No Diabetes|       0.0|\n",
            "|    101|24.2|      0|No Diabetes|       0.0|\n",
            "|    105|34.9|      0|No Diabetes|       0.0|\n",
            "|    105|23.3|      0|No Diabetes|       0.0|\n",
            "|    107|33.6|      0|No Diabetes|       0.0|\n",
            "|    108|25.3|      0|No Diabetes|       0.0|\n",
            "|    114|28.7|      0|No Diabetes|       0.0|\n",
            "|    117|25.2|      0|No Diabetes|       0.0|\n",
            "|    124|32.9|      1|   Diabetes|       0.0|\n",
            "|    141|25.4|      0|No Diabetes|       0.0|\n",
            "|    144|31.6|      1|   Diabetes|       0.0|\n",
            "|    155|38.7|      1|   Diabetes|       0.0|\n",
            "|    197|34.7|      1|   Diabetes|       1.0|\n",
            "|     99|19.3|      0|No Diabetes|       0.0|\n",
            "|    108|26.0|      0|No Diabetes|       0.0|\n",
            "|    113|22.4|      0|No Diabetes|       0.0|\n",
            "|    129|26.4|      1|   Diabetes|       0.0|\n",
            "|    162|37.2|      1|   Diabetes|       1.0|\n",
            "|    173|35.7|      1|   Diabetes|       1.0|\n",
            "|     84|39.5|      0|No Diabetes|       0.0|\n",
            "|     85|27.8|      0|No Diabetes|       0.0|\n",
            "|     95|32.1|      0|No Diabetes|       0.0|\n",
            "|    110|31.9|      0|No Diabetes|       0.0|\n",
            "|    112|39.4|      0|No Diabetes|       0.0|\n",
            "|    115|28.9|      1|   Diabetes|       0.0|\n",
            "|    129|27.5|      0|No Diabetes|       0.0|\n",
            "|    141|27.6|      0|No Diabetes|       0.0|\n",
            "|    144|29.5|      0|No Diabetes|       0.0|\n",
            "|    146|38.5|      1|   Diabetes|       1.0|\n",
            "|    147|34.9|      0|No Diabetes|       1.0|\n",
            "|    156|48.3|      1|   Diabetes|       0.0|\n",
            "|    184|37.0|      1|   Diabetes|       1.0|\n",
            "|     78|33.7|      0|No Diabetes|       0.0|\n",
            "|     97|35.6|      1|   Diabetes|       0.0|\n",
            "|     99|34.0|      0|No Diabetes|       0.0|\n",
            "|    103|39.2|      0|No Diabetes|       0.0|\n",
            "|    109|35.8|      1|   Diabetes|       0.0|\n",
            "|    109|36.0|      0|No Diabetes|       0.0|\n",
            "|    111|23.9|      0|No Diabetes|       0.0|\n",
            "|    115|31.2|      1|   Diabetes|       0.0|\n",
            "|    115|52.9|      1|   Diabetes|       0.0|\n",
            "|    143|45.0|      0|No Diabetes|       0.0|\n",
            "|    189|31.2|      1|   Diabetes|       1.0|\n",
            "|     91|29.8|      0|No Diabetes|       0.0|\n",
            "|     93|28.7|      0|No Diabetes|       0.0|\n",
            "|    111|34.2|      0|No Diabetes|       0.0|\n",
            "|    119|27.1|      1|   Diabetes|       0.0|\n",
            "|    125|33.8|      1|   Diabetes|       0.0|\n",
            "|    125|27.6|      1|   Diabetes|       0.0|\n",
            "|    134|35.4|      1|   Diabetes|       0.0|\n",
            "|    148|33.6|      1|   Diabetes|       1.0|\n",
            "|    154|29.3|      0|No Diabetes|       0.0|\n",
            "|    162|24.3|      1|   Diabetes|       1.0|\n",
            "|    190|35.5|      1|   Diabetes|       1.0|\n",
            "|     94|33.3|      0|No Diabetes|       0.0|\n",
            "|    114|27.4|      1|   Diabetes|       0.0|\n",
            "|    124|25.5|      0|No Diabetes|       0.0|\n",
            "|    150|34.7|      0|No Diabetes|       0.0|\n",
            "|    152|50.0|      1|   Diabetes|       0.0|\n",
            "+-------+----+-------+-----------+----------+\n",
            "only showing top 100 rows\n",
            "\n"
          ]
        }
      ]
    },
    {
      "cell_type": "code",
      "source": [
        "import matplotlib.pyplot as plt\n",
        "import seaborn as sns\n",
        "from sklearn.metrics import confusion_matrix, ConfusionMatrixDisplay\n",
        "# Ensure scikit-learn and seaborn are installed if you haven't already\n",
        "# !pip install scikit-learn seaborn matplotlib\n",
        "\n",
        "# Konversi DataFrame PySpark ke Pandas\n",
        "# Pilih kolom yang relevan untuk confusion matrix\n",
        "pandas_df = predictions.select(\"label_name\", \"prediction\").toPandas()\n",
        "\n",
        "# Konversi kolom 'prediction' menjadi string agar sesuai dengan tipe data 'label_name'\n",
        "# Use the same mapping as creating 'predicted_label_name'\n",
        "pandas_df['prediction'] = pandas_df['prediction'].apply(\n",
        "    lambda x: 'No Diabetes' if x == 0 else 'Diabetes'\n",
        ")\n",
        "\n",
        "# Confusion Matrix\n",
        "# Gunakan string labels untuk kedua argumen\n",
        "cm = confusion_matrix(pandas_df['label_name'], pandas_df['prediction'])\n",
        "# Dapatkan unique labels dari kolom string\n",
        "labels = sorted(pandas_df['label_name'].unique())\n",
        "\n",
        "# Visualisasi Confusion Matrix\n",
        "plt.figure(figsize=(8, 6))\n",
        "# Pastikan order label di heatmap sama dengan order di confusion matrix\n",
        "sns.heatmap(cm, annot=True, fmt='d', xticklabels=labels, yticklabels=labels, cmap=\"Blues\")\n",
        "plt.xlabel(\"Predicted Label\")\n",
        "plt.ylabel(\"True Label\")\n",
        "plt.title(\"Confusion Matrix\")\n",
        "plt.show()\n"
      ],
      "metadata": {
        "colab": {
          "base_uri": "https://localhost:8080/",
          "height": 564
        },
        "id": "33tVNsk6NTdX",
        "outputId": "6cbf4445-c584-40c4-8b38-53f76d23566a"
      },
      "execution_count": 16,
      "outputs": [
        {
          "output_type": "display_data",
          "data": {
            "text/plain": [
              "<Figure size 800x600 with 2 Axes>"
            ],
            "image/png": "[encoded data removed]"
          },
          "metadata": {}
        }
      ]
    },
    {
      "cell_type": "code",
      "source": [
        "sns.countplot(x=\"prediction\", data=pandas_df)\n",
        "plt.title(\"Distribusi Hasil Klasisfikasi\")\n",
        "plt.xlabel(\"Label Class\")\n",
        "plt.ylabel(\"Jumlah Data\")\n",
        "plt.show()"
      ],
      "metadata": {
        "colab": {
          "base_uri": "https://localhost:8080/",
          "height": 472
        },
        "id": "I7IYMBkaOHIJ",
        "outputId": "2b7926ce-ec47-4014-adcf-db180928489b"
      },
      "execution_count": 17,
      "outputs": [
        {
          "output_type": "display_data",
          "data": {
            "text/plain": [
              "<Figure size 640x480 with 1 Axes>"
            ],
            "image/png": "[encoded data removed]"
          },
          "metadata": {}
        }
      ]
    },
    {
      "cell_type": "code",
      "source": [
        "# Select relevant columns from the diabetes dataset\n",
        "save = predictions.select(\"Glucose\", \"BMI\", \"Outcome\", \"label\", \"prediction\")\n",
        "# Add mode=\"overwrite\" to overwrite the file if it exists\n",
        "save.write.csv(\"predictions.csv\", header=True, mode=\"overwrite\")"
      ],
      "metadata": {
        "id": "XRys69B28ofx"
      },
      "execution_count": 22,
      "outputs": []
    }
  ]
}